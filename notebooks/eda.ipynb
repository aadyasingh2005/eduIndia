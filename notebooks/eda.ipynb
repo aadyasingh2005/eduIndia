{
 "cells": [
  {
   "cell_type": "code",
   "execution_count": null,
   "id": "8c5e705d",
   "metadata": {
    "vscode": {
     "languageId": "plaintext"
    }
   },
   "outputs": [],
   "source": [
    "# notebooks/eda.ipynb\n",
    "\n",
    "# Run this in a Jupyter Notebook cell\n",
    "import pandas as pd\n",
    "\n",
    "df = pd.read_csv(\"C:\\\\Users\\\\aadya\\\\eduIndia\\\\Python project\\\\data\\\\Bengaluru_Urban_North_Facilities.csv\")\n",
    "df.info()\n",
    "\n",
    "# Quick glance at distributions\n",
    "df.describe(include='all').T\n",
    "\n",
    "# Null values\n",
    "df.isnull().sum()\n",
    "\n",
    "# Binary presence percentages (yes/no infrastructure availability)\n",
    "infra_cols = [\n",
    "    'boundary_wall', 'library_availability', 'playground_available',\n",
    "    'drinking_water_available', 'electricity_availability', 'solar_panel',\n",
    "    'medical_checkups', 'internet', 'dth'\n",
    "]\n",
    "\n",
    "df[infra_cols].apply(pd.Series.value_counts).T\n"
   ]
  }
 ],
 "metadata": {
  "language_info": {
   "name": "python"
  }
 },
 "nbformat": 4,
 "nbformat_minor": 5
}
